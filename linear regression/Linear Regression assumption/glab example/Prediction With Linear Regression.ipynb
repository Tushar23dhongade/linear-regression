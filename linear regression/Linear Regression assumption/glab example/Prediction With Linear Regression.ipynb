{
 "cells": [
  {
   "cell_type": "markdown",
   "metadata": {},
   "source": [
    "The Four Assumptions of Linear Regression\n",
    "Linear regression is a useful statistical method we can use to understand the relationship between two variables, x and y. However, before we conduct linear regression, we must first make sure that four assumptions are met:\n",
    "\n",
    "1. Linear relationship: There exists a linear relationship between the independent variable, x, and the dependent variable, y.\n",
    "\n",
    "2. Independence: The residuals are independent. In particular, there is no correlation between consecutive residuals in time series data.\n",
    "\n",
    "3. Homoscedasticity: The residuals have constant variance at every level of x.\n",
    "\n",
    "4. Normality: The residuals of the model are normally distributed.\n",
    "\n",
    "If one or more of these assumptions are violated, then the results of our linear regression may be unreliable or even misleading.\n",
    "\n",
    "In this post, we provide an explanation for each assumption, how to determine if the assumption is met, and what to do if the assumption is violated."
   ]
  },
  {
   "cell_type": "markdown",
   "metadata": {},
   "source": [
    "# important link\n",
    "\n",
    "https://www.statology.org/linear-regression-assumptions/\n",
    "\n",
    "https://www.kaggle.com/shrutimechlearn/step-by-step-assumptions-linear-regression"
   ]
  },
  {
   "cell_type": "markdown",
   "metadata": {},
   "source": [
    "# There are four assumptions associated with a linear regression model:\n",
    "\n",
    "Linearity: The relationship between X and the mean of Y is linear.\n",
    "\n",
    "Homoscedasticity: The variance of residual is the same for any value of X.\n",
    "\n",
    "Independence: Observations are independent of each other.\n",
    "\n",
    "Normality: For any fixed value of X, Y is normally distributed."
   ]
  },
  {
   "cell_type": "markdown",
   "metadata": {},
   "source": [
    "y(x)=θ0 +θ1 x\n",
    "\n",
    "difference between the actual value of the target and the predicted value is called the residual.\n",
    "\n",
    "residual ε = y true − y pred\n",
    "\n",
    "y true= y pred + ε\n",
    "\n",
    "y true= y pred + ε = θ0 + θ1x + ε\n",
    "\n",
    "Let's visualize this in a vector form\n",
    "\n",
    "y true = [1  x] × [θ0] + [ε]\n",
    "\n",
    "            [θ1]\n",
    "    \n",
    "\n",
    "\n",
    "                   "
   ]
  },
  {
   "cell_type": "code",
   "execution_count": 6,
   "metadata": {},
   "outputs": [],
   "source": [
    "import numpy as np\n",
    "import pandas as pd\n",
    "import matplotlib.pyplot as plt\n",
    "import seaborn as sns"
   ]
  },
  {
   "cell_type": "code",
   "execution_count": 12,
   "metadata": {},
   "outputs": [
    {
     "name": "stdout",
     "output_type": "stream",
     "text": [
      "0       157609\n",
      "1       774400\n",
      "2       275625\n",
      "3        81796\n",
      "4       298116\n",
      "         ...  \n",
      "1087    276676\n",
      "1088     90000\n",
      "1089     94864\n",
      "1090         0\n",
      "1091    160000\n",
      "Name: GarageArea, Length: 1092, dtype: int64\n",
      "      ExterQual  AllFlrsSF  GrLivArea  SimplOverallCond  GarageArea  \\\n",
      "0             4       1316       1316                 2         397   \n",
      "1             4       2028       2028                 2         880   \n",
      "2             3       1072       1072                 2         525   \n",
      "3             3       1048       1048                 2         286   \n",
      "4             3       1779       1779                 2         546   \n",
      "...         ...        ...        ...               ...         ...   \n",
      "1087          3       1277       1277                 2         526   \n",
      "1088          3       1152       1152                 3         300   \n",
      "1089          3       1269       1269                 2         308   \n",
      "1090          3        605        605                 3           0   \n",
      "1091          3       1456       1456                 2         400   \n",
      "\n",
      "      TotRmsAbvGrd  LotFrontage  \n",
      "0                6         65.0  \n",
      "1                7         88.0  \n",
      "2                5         35.0  \n",
      "3                6         72.0  \n",
      "4                6         80.0  \n",
      "...            ...          ...  \n",
      "1087             5         85.0  \n",
      "1088             6         80.0  \n",
      "1089             6         70.0  \n",
      "1090             5         58.0  \n",
      "1091             8         51.0  \n",
      "\n",
      "[1092 rows x 7 columns]\n"
     ]
    }
   ],
   "source": [
    "path_ames_train=\"train.csv\"\n",
    "path_ames_test=\"test.csv\"\n",
    "\n",
    "train=pd.read_csv(path_ames_train)\n",
    "test=pd.read_csv(path_ames_test)\n",
    "\n",
    "X_train=train.iloc[:,:-1]\n",
    "y_train=train.iloc[:,-1]\n",
    "\n",
    "X_test=test.iloc[:,:-1]\n",
    "y_test=test.iloc[:,-1]\n",
    "\n"
   ]
  },
  {
   "cell_type": "markdown",
   "metadata": {},
   "source": [
    "# Little or No Multicollinearity Assumption\n"
   ]
  },
  {
   "cell_type": "markdown",
   "metadata": {},
   "source": [
    "> What is multicollinearity?"
   ]
  },
  {
   "cell_type": "markdown",
   "metadata": {},
   "source": [
    "It is assumed that there is little or no multicollinearity in the data. But what do we mean by multicollinearity? Well, multicollinearity occurs when independent variables in a regression model are correlated. This correlation is a problem because independent variables should be independent. If the degree of correlation between variables is high enough, it can cause problems when you fit the model and interpret the results."
   ]
  },
  {
   "cell_type": "markdown",
   "metadata": {},
   "source": [
    "The stronger the correlation, the more difficult it is to change one variable without changing another. It becomes difficult for the model to estimate the relationship between each independent variable and the dependent variable independently because the independent variables tend to change in unison."
   ]
  },
  {
   "cell_type": "markdown",
   "metadata": {},
   "source": [
    "Effects of multicollinearity\n",
    "\n",
    "It results in unstable parameter estimates which makes it very difficult to assess the effect of independent variables.\n",
    "Weakens the statistical power of the regression model"
   ]
  },
  {
   "cell_type": "code",
   "execution_count": null,
   "metadata": {},
   "outputs": [],
   "source": []
  },
  {
   "cell_type": "markdown",
   "metadata": {},
   "source": [
    "# Homoscedasticity Assumption"
   ]
  },
  {
   "cell_type": "markdown",
   "metadata": {},
   "source": [
    "Homoscedasticity describes a situation in which the ERROR term is the same across all values of the independent variables."
   ]
  },
  {
   "cell_type": "markdown",
   "metadata": {},
   "source": [
    "> Why it is important:\n",
    "\n",
    "Generally, non-constant variance arises in the presence of outliers or extreme leverage values.\n",
    "\n",
    " >How to validate:\n",
    "\n",
    "The plot between error (residuals)  (True value - Predicted value)   vs predicted values. If there is no fan-shaped pattern visible, then it satisfies this assumption."
   ]
  },
  {
   "cell_type": "markdown",
   "metadata": {},
   "source": [
    "# Little or No autocorrelation in residualsv"
   ]
  },
  {
   "cell_type": "markdown",
   "metadata": {},
   "source": [
    "> There should be little or no autocorrelation in the data. Autocorrelation occurs when the residual errors are dependent of each other."
   ]
  },
  {
   "cell_type": "markdown",
   "metadata": {},
   "source": [
    "There should be little or no autocorrelation in the data. Autocorrelation occurs when the residual errors are not independent of each other.\n",
    "\n",
    ">Why it is important:\n",
    "\n",
    "The presence of correlation in error terms drastically reduces the model's accuracy. This usually occurs in time series models. If the error terms are correlated, the estimated standard errors tend to underestimate the true standard error.\n",
    "\n",
    ">How to validate:\n",
    "\n",
    "Residual vs Time plot: Look for the seasonal or correlated pattern in residual values."
   ]
  },
  {
   "cell_type": "markdown",
   "metadata": {},
   "source": [
    "# Normal Distribution of error terms"
   ]
  },
  {
   "cell_type": "markdown",
   "metadata": {},
   "source": [
    "A common misconception about linear regression is that it assumes that the outcome Y is normally distributed. Actually, linear regression assumes normality for the residual errors \\varepsilonε, which represent variation in Y not explained by the predictors."
   ]
  },
  {
   "cell_type": "markdown",
   "metadata": {},
   "source": [
    ">Why it is important:\n",
    "\n",
    "Due to the Central Limit Theorem, we may assume that there are lots of underlying facts affecting the process and the sum of these individual errors will tend to behave like in a zero-mean normal distribution. In practice, it seems to be so."
   ]
  },
  {
   "cell_type": "markdown",
   "metadata": {},
   "source": [
    ">How to validate:\n",
    "\n",
    "You can look at the QQ plot of the residuals. QQ plot is a scatterplot created by plotting two sets of quantiles against one another. For our case, we plot the residual quantiles against the theoretical quantiles corresponding to a normal distribution. If the QQ plot is a straight line, then we can infer that the errors follow a normal distribution.\n",
    "You should observe a normal curve on plotting a histogram of the residuals."
   ]
  },
  {
   "cell_type": "markdown",
   "metadata": {},
   "source": [
    "## Why you should care about these assumptions?"
   ]
  },
  {
   "cell_type": "markdown",
   "metadata": {},
   "source": [
    ">In a nutshell, your linear model should produce ERROR (residuals) that have constant variance and are normally distributed, features are not correlated with themselves or other features, etc. If these assumptions hold true, the OLS procedure (discussed in the next chapter) creates the best possible estimates for the coefficients of linear regression.\n",
    "\n",
    ">Another benefit of satisfying these assumptions is that as the sample size increases to infinity, the coefficient estimates converge on the actual population parameters."
   ]
  },
  {
   "cell_type": "markdown",
   "metadata": {},
   "source": [
    "y=Xθ+ε\n",
    "\n",
    "y is the target variable - Sales Price\n",
    "\n",
    "ERROR (residuals) is given by:    ε = y − Xθ\n",
    "    \n",
    "    \n",
    "If we take the actual value of the residuals, they might be negative. To avoid that, we take the squared sum of the residuals.    \n",
    "ε T *ε is also known as cost function which we want to minimize."
   ]
  },
  {
   "cell_type": "markdown",
   "metadata": {},
   "source": [
    "# Now we need to find the θ that minimizes the sum of squared residuals. (That is why the name - Ordinary Least Squares)"
   ]
  },
  {
   "cell_type": "markdown",
   "metadata": {},
   "source": [
    " To find the θ, we take derivative w.r.t θ."
   ]
  },
  {
   "cell_type": "markdown",
   "metadata": {},
   "source": [
    "# θ1 = SSxx / SS xy"
   ]
  },
  {
   "cell_type": "code",
   "execution_count": 7,
   "metadata": {},
   "outputs": [
    {
     "name": "stdout",
     "output_type": "stream",
     "text": [
      "Estimated coefficients:\n",
      "b_0 = 74795.1260414561  \n",
      "b_1 = 214.31004114071553\n"
     ]
    },
    {
     "ename": "NameError",
     "evalue": "name 'b' is not defined",
     "output_type": "error",
     "traceback": [
      "\u001b[1;31m---------------------------------------------------------------------------\u001b[0m",
      "\u001b[1;31mNameError\u001b[0m                                 Traceback (most recent call last)",
      "\u001b[1;32m<ipython-input-7-678ba2d98a13>\u001b[0m in \u001b[0;36m<module>\u001b[1;34m\u001b[0m\n\u001b[0;32m     46\u001b[0m \u001b[1;32mif\u001b[0m \u001b[0m__name__\u001b[0m \u001b[1;33m==\u001b[0m \u001b[1;34m\"__main__\"\u001b[0m\u001b[1;33m:\u001b[0m\u001b[1;33m\u001b[0m\u001b[1;33m\u001b[0m\u001b[0m\n\u001b[0;32m     47\u001b[0m     \u001b[0mmain\u001b[0m\u001b[1;33m(\u001b[0m\u001b[1;33m)\u001b[0m\u001b[1;33m\u001b[0m\u001b[1;33m\u001b[0m\u001b[0m\n\u001b[1;32m---> 48\u001b[1;33m \u001b[0mprint\u001b[0m\u001b[1;33m(\u001b[0m\u001b[0mb\u001b[0m\u001b[1;33m)\u001b[0m\u001b[1;33m\u001b[0m\u001b[1;33m\u001b[0m\u001b[0m\n\u001b[0m",
      "\u001b[1;31mNameError\u001b[0m: name 'b' is not defined"
     ]
    },
    {
     "data": {
      "image/png": "[encoded data removed]",
      "text/plain": [
       "<Figure size 432x288 with 1 Axes>"
      ]
     },
     "metadata": {
      "needs_background": "light"
     },
     "output_type": "display_data"
    }
   ],
   "source": [
    "def estimate_coef(x, y): \n",
    "    # number of observations/points \n",
    "    n = np.size(x) \n",
    "  \n",
    "    # mean of x and y vector \n",
    "    m_x, m_y = np.mean(x), np.mean(y) \n",
    "  \n",
    "    # calculating cross-deviation and deviation about x \n",
    "    SS_xy = np.sum(y*x) - n*m_y*m_x \n",
    "    SS_xx = np.sum(x*x) - n*m_x**2\n",
    "  \n",
    "    # calculating regression coefficients \n",
    "    b_1 = SS_xy / SS_xx \n",
    "    b_0 = m_y - b_1*m_x \n",
    "    \n",
    "\n",
    "    return(b_0, b_1) \n",
    "def plot_regression_line(x, y, b): \n",
    "    # plotting the actual points as scatter plot \n",
    "    plt.scatter(x, y, color = \"m\", \n",
    "               marker = \"o\", s = 30) \n",
    "  \n",
    "    # predicted response vector \n",
    "    y_pred = b[0] + b[1]*x \n",
    "  \n",
    "    # plotting the regression line \n",
    "    plt.plot(x, y_pred, color = \"g\") \n",
    "  \n",
    "    # putting labels \n",
    "    plt.xlabel('x') \n",
    "    plt.ylabel('y') \n",
    "    \n",
    "    \n",
    "def main(): \n",
    "    # observations \n",
    "    x = np.array(X_train[\"GarageArea\"]) \n",
    "    y = np.array(y_train) \n",
    "  \n",
    "    # estimating coefficients \n",
    "    b = estimate_coef(x, y) \n",
    "    print(\"Estimated coefficients:\\nb_0 = {}  \\nb_1 = {}\".format(b[0], b[1])) \n",
    "  \n",
    "    # plotting regression line \n",
    "    plot_regression_line(x, y, b) \n",
    "  \n",
    "if __name__ == \"__main__\": \n",
    "    main() \n",
    "print(b)"
   ]
  },
  {
   "cell_type": "code",
   "execution_count": 27,
   "metadata": {},
   "outputs": [],
   "source": [
    "# import packages\n",
    "from sklearn.linear_model import LinearRegression \n",
    "\n",
    "# Code starts here\n",
    "\n",
    "# instantiate linear model\n",
    "linreg = LinearRegression()\n",
    "y_train=np.log(y_train)\n",
    "\n",
    "# fit model on training data\n",
    "\n",
    "linreg.fit(X_train, y_train)\n",
    "# predict on test features\n",
    "y_pred = linreg.predict(X_test)\n"
   ]
  },
  {
   "cell_type": "markdown",
   "metadata": {},
   "source": [
    "# Evaluation : Mean Absolute Error"
   ]
  },
  {
   "cell_type": "code",
   "execution_count": 28,
   "metadata": {},
   "outputs": [
    {
     "name": "stdout",
     "output_type": "stream",
     "text": [
      "187802.02278565965\n"
     ]
    }
   ],
   "source": [
    "from sklearn.metrics import mean_absolute_error\n",
    "\n",
    "# Code starts here\n",
    "y_pred=np.exp(y_pred)\n",
    "\n",
    "# MAE calculation\n",
    "mae = mean_absolute_error(y_test, y_pred)\n",
    "print(mae)\n",
    "\n",
    "# Code ends here"
   ]
  },
  {
   "cell_type": "markdown",
   "metadata": {},
   "source": [
    "# Evaluation : Root Mean Squared Error"
   ]
  },
  {
   "cell_type": "markdown",
   "metadata": {},
   "source": [
    "RMSE severely punishes large differences in prediction. This is the reason why RMSE is powerful as compared to Absolute Error."
   ]
  },
  {
   "cell_type": "code",
   "execution_count": 29,
   "metadata": {},
   "outputs": [
    {
     "name": "stdout",
     "output_type": "stream",
     "text": [
      "205598.2026869498\n"
     ]
    }
   ],
   "source": [
    "from sklearn.metrics import mean_squared_error\n",
    "import\n",
    "y_pred=np.exp(y_pred)\n",
    "\n",
    "# MAE calculation\n",
    "rmse =np.sqrt(mean_squared_error(y_test, y_pred))\n",
    "print(rmse)\n"
   ]
  },
  {
   "cell_type": "markdown",
   "metadata": {},
   "source": [
    "# Evaluation : R squarem"
   ]
  },
  {
   "cell_type": "markdown",
   "metadata": {},
   "source": [
    " R-squared tells you how well your model fits the data points whereas Adjusted R-squared tells you how important is a particular feature to your model."
   ]
  },
  {
   "cell_type": "code",
   "execution_count": 31,
   "metadata": {},
   "outputs": [],
   "source": [
    "from sklearn.metrics import r2_score\n",
    "y_pred=np.exp(y_pred)\n",
    "rsqaured = r2_score(y_test, y_pred)"
   ]
  },
  {
   "cell_type": "markdown",
   "metadata": {},
   "source": [
    "# The Lego Collector's Dilemma"
   ]
  },
  {
   "cell_type": "code",
   "execution_count": 33,
   "metadata": {},
   "outputs": [],
   "source": [
    "import pandas as pd\n",
    "import matplotlib.pyplot as plt\n",
    "import numpy as np\n",
    "from sklearn.model_selection import train_test_split"
   ]
  },
  {
   "cell_type": "code",
   "execution_count": 34,
   "metadata": {
    "scrolled": true
   },
   "outputs": [
    {
     "data": {
      "text/html": [
       "<div>\n",
       "<style scoped>\n",
       "    .dataframe tbody tr th:only-of-type {\n",
       "        vertical-align: middle;\n",
       "    }\n",
       "\n",
       "    .dataframe tbody tr th {\n",
       "        vertical-align: top;\n",
       "    }\n",
       "\n",
       "    .dataframe thead th {\n",
       "        text-align: right;\n",
       "    }\n",
       "</style>\n",
       "<table border=\"1\" class=\"dataframe\">\n",
       "  <thead>\n",
       "    <tr style=\"text-align: right;\">\n",
       "      <th></th>\n",
       "      <th>ages</th>\n",
       "      <th>list_price</th>\n",
       "      <th>num_reviews</th>\n",
       "      <th>piece_count</th>\n",
       "      <th>play_star_rating</th>\n",
       "      <th>review_difficulty</th>\n",
       "      <th>star_rating</th>\n",
       "      <th>theme_name</th>\n",
       "      <th>val_star_rating</th>\n",
       "      <th>country</th>\n",
       "    </tr>\n",
       "  </thead>\n",
       "  <tbody>\n",
       "    <tr>\n",
       "      <th>0</th>\n",
       "      <td>19</td>\n",
       "      <td>29.99</td>\n",
       "      <td>2</td>\n",
       "      <td>277</td>\n",
       "      <td>4.0</td>\n",
       "      <td>0</td>\n",
       "      <td>4.5</td>\n",
       "      <td>0</td>\n",
       "      <td>4.0</td>\n",
       "      <td>20</td>\n",
       "    </tr>\n",
       "    <tr>\n",
       "      <th>1</th>\n",
       "      <td>19</td>\n",
       "      <td>19.99</td>\n",
       "      <td>2</td>\n",
       "      <td>168</td>\n",
       "      <td>4.0</td>\n",
       "      <td>2</td>\n",
       "      <td>5.0</td>\n",
       "      <td>0</td>\n",
       "      <td>4.0</td>\n",
       "      <td>20</td>\n",
       "    </tr>\n",
       "    <tr>\n",
       "      <th>2</th>\n",
       "      <td>19</td>\n",
       "      <td>12.99</td>\n",
       "      <td>11</td>\n",
       "      <td>74</td>\n",
       "      <td>4.3</td>\n",
       "      <td>2</td>\n",
       "      <td>4.3</td>\n",
       "      <td>0</td>\n",
       "      <td>4.1</td>\n",
       "      <td>20</td>\n",
       "    </tr>\n",
       "    <tr>\n",
       "      <th>3</th>\n",
       "      <td>5</td>\n",
       "      <td>99.99</td>\n",
       "      <td>23</td>\n",
       "      <td>1032</td>\n",
       "      <td>3.6</td>\n",
       "      <td>0</td>\n",
       "      <td>4.6</td>\n",
       "      <td>1</td>\n",
       "      <td>4.3</td>\n",
       "      <td>20</td>\n",
       "    </tr>\n",
       "    <tr>\n",
       "      <th>4</th>\n",
       "      <td>5</td>\n",
       "      <td>79.99</td>\n",
       "      <td>14</td>\n",
       "      <td>744</td>\n",
       "      <td>3.2</td>\n",
       "      <td>1</td>\n",
       "      <td>4.6</td>\n",
       "      <td>1</td>\n",
       "      <td>4.1</td>\n",
       "      <td>20</td>\n",
       "    </tr>\n",
       "  </tbody>\n",
       "</table>\n",
       "</div>"
      ],
      "text/plain": [
       "   ages  list_price  num_reviews  piece_count  play_star_rating  \\\n",
       "0    19       29.99            2          277               4.0   \n",
       "1    19       19.99            2          168               4.0   \n",
       "2    19       12.99           11           74               4.3   \n",
       "3     5       99.99           23         1032               3.6   \n",
       "4     5       79.99           14          744               3.2   \n",
       "\n",
       "   review_difficulty  star_rating  theme_name  val_star_rating  country  \n",
       "0                  0          4.5           0              4.0       20  \n",
       "1                  2          5.0           0              4.0       20  \n",
       "2                  2          4.3           0              4.1       20  \n",
       "3                  0          4.6           1              4.3       20  \n",
       "4                  1          4.6           1              4.1       20  "
      ]
     },
     "execution_count": 34,
     "metadata": {},
     "output_type": "execute_result"
    }
   ],
   "source": [
    "path=\"lego_final.csv\"\n",
    "df=pd.read_csv(path)\n",
    "df.head(5)"
   ]
  },
  {
   "cell_type": "code",
   "execution_count": 36,
   "metadata": {},
   "outputs": [
    {
     "data": {
      "text/plain": [
       "Index(['ages', 'list_price', 'num_reviews', 'piece_count', 'play_star_rating',\n",
       "       'review_difficulty', 'star_rating', 'theme_name', 'val_star_rating',\n",
       "       'country'],\n",
       "      dtype='object')"
      ]
     },
     "execution_count": 36,
     "metadata": {},
     "output_type": "execute_result"
    }
   ],
   "source": [
    "df.columns"
   ]
  },
  {
   "cell_type": "code",
   "execution_count": 43,
   "metadata": {},
   "outputs": [],
   "source": [
    "X=df.loc[:,['ages', 'num_reviews', 'piece_count', 'play_star_rating',\n",
    "       'review_difficulty', 'star_rating', 'theme_name', 'val_star_rating',\n",
    "       'country'] ]"
   ]
  },
  {
   "cell_type": "code",
   "execution_count": 44,
   "metadata": {},
   "outputs": [],
   "source": [
    "y=df.iloc[:,1]"
   ]
  },
  {
   "cell_type": "code",
   "execution_count": 45,
   "metadata": {},
   "outputs": [],
   "source": [
    "X_train,X_test,y_train,y_test=train_test_split(X,y,test_size = 0.3,random_state = 6)\n"
   ]
  },
  {
   "cell_type": "markdown",
   "metadata": {},
   "source": [
    "# Predictor Check!"
   ]
  },
  {
   "cell_type": "code",
   "execution_count": 48,
   "metadata": {},
   "outputs": [
    {
     "data": {
      "image/png": "[encoded data removed]",
      "text/plain": [
       "<Figure size 1440x1440 with 9 Axes>"
      ]
     },
     "metadata": {
      "needs_background": "light"
     },
     "output_type": "display_data"
    }
   ],
   "source": [
    "       \n",
    "cols = X_train.columns\n",
    "\n",
    "fig, axes = plt.subplots(nrows=3, ncols=3, figsize=(20,20))\n",
    "\n",
    "for i in range(0,3):\n",
    "    for j in range(0,3): \n",
    "            col = cols[i*3 + j]\n",
    "            axes[i,j].set_title(col)\n",
    "            axes[i,j].scatter(X_train[col],y_train)\n",
    "            axes[i,j].set_xlabel(col)\n",
    "            axes[i,j].set_ylabel('list_price')\n",
    "        "
   ]
  },
  {
   "cell_type": "code",
   "execution_count": 49,
   "metadata": {},
   "outputs": [
    {
     "name": "stdout",
     "output_type": "stream",
     "text": [
      "                       ages  num_reviews  piece_count  play_star_rating  \\\n",
      "ages               1.000000    -0.160969    -0.090685          0.232847   \n",
      "num_reviews       -0.160969     1.000000     0.542924          0.151801   \n",
      "piece_count       -0.090685     0.542924     1.000000          0.174411   \n",
      "play_star_rating   0.232847     0.151801     0.174411          1.000000   \n",
      "review_difficulty -0.239683    -0.196846    -0.312239         -0.670508   \n",
      "star_rating        0.102633     0.160762     0.180903          0.902573   \n",
      "theme_name         0.476178     0.012342     0.173318          0.151078   \n",
      "val_star_rating    0.116349     0.172431     0.192863          0.921824   \n",
      "country           -0.001526     0.001953     0.002506         -0.000958   \n",
      "\n",
      "                   review_difficulty  star_rating  theme_name  \\\n",
      "ages                       -0.239683     0.102633    0.476178   \n",
      "num_reviews                -0.196846     0.160762    0.012342   \n",
      "piece_count                -0.312239     0.180903    0.173318   \n",
      "play_star_rating           -0.670508     0.902573    0.151078   \n",
      "review_difficulty           1.000000    -0.637901   -0.153948   \n",
      "star_rating                -0.637901     1.000000    0.065264   \n",
      "theme_name                 -0.153948     0.065264    1.000000   \n",
      "val_star_rating            -0.650333     0.908720    0.097430   \n",
      "country                     0.006417    -0.003865   -0.003625   \n",
      "\n",
      "                   val_star_rating   country  \n",
      "ages                      0.116349 -0.001526  \n",
      "num_reviews               0.172431  0.001953  \n",
      "piece_count               0.192863  0.002506  \n",
      "play_star_rating          0.921824 -0.000958  \n",
      "review_difficulty        -0.650333  0.006417  \n",
      "star_rating               0.908720 -0.003865  \n",
      "theme_name                0.097430 -0.003625  \n",
      "val_star_rating           1.000000  0.002413  \n",
      "country                   0.002413  1.000000  \n"
     ]
    }
   ],
   "source": [
    "# corr code\n",
    "corr = X_train.corr()\n",
    "print(corr)"
   ]
  },
  {
   "cell_type": "code",
   "execution_count": 50,
   "metadata": {},
   "outputs": [
    {
     "name": "stdout",
     "output_type": "stream",
     "text": [
      "1983.9493990396782\n",
      "0.7878489841102756\n"
     ]
    }
   ],
   "source": [
    "from sklearn.linear_model import LinearRegression\n",
    "from sklearn.metrics import mean_squared_error, r2_score\n",
    "\n",
    "\n",
    "#Instantiate linear regression model\n",
    "regressor=LinearRegression()\n",
    "\n",
    "# fit the model\n",
    "regressor.fit(X_train,y_train)\n",
    "\n",
    "# predict the result\n",
    "y_pred =regressor.predict(X_test)\n",
    "\n",
    "# Calculate mse\n",
    "mse = mean_squared_error(y_test, y_pred)\n",
    "\n",
    "# print mse\n",
    "print(mse)\n",
    "\n",
    "# Calculate r2_score\n",
    "r2 = r2_score(y_test, y_pred)\n",
    "\n",
    "#print r2\n",
    "print(r2)"
   ]
  },
  {
   "cell_type": "markdown",
   "metadata": {},
   "source": [
    "# Will You Choose Lasso or Ridge with the Holdout Method?"
   ]
  },
  {
   "cell_type": "code",
   "execution_count": 1,
   "metadata": {},
   "outputs": [],
   "source": [
    "# # import packages\n",
    "# from sklearn.model_selection import train_test_split\n",
    "\n",
    "# # split into training and validation\n",
    "# train_feat, test_feat, train_tar, test_tar = train_test_split(X_train, y_train, test_size=0.25, random_state=42)\n",
    "\n",
    "# # Code starts here\n",
    "\n",
    "# # initiate lasso and ridge\n",
    "# l1=Lasso()\n",
    "# l2=Ridge()\n",
    "# # fit on training\n",
    "# l1.fit(train_feat,train_tar)\n",
    "# l2.fit(train_feat,train_tar)\n",
    "\n",
    "# # make predictions and calculate RMSE on validation data\n",
    "\n",
    "# pred_l1=l1.predict(test_feat)\n",
    "# pred_l2=l2.predict(test_feat)\n",
    "\n",
    "# # select best model\n",
    "# rmse_l1=np.sqrt(mean_squared_error(test_tar,pred_l1))\n",
    "# rmse_l2=np.sqrt(mean_squared_error(test_tar,pred_l2))\n",
    "# selected_model = l1 if rmse_l1 < rmse_l2 else l2\n",
    "\n",
    "# # make prediction on test data and calculate RMSE\n",
    "# selected_model_pred=selected_model.predict(X_test)\n",
    "# rmse_selected_model_pred=np.sqrt(mean_squared_error(y_test,selected_model_pred))\n",
    "\n",
    "\n",
    "# # Code ends here"
   ]
  },
  {
   "cell_type": "markdown",
   "metadata": {},
   "source": [
    "# Use K-Fold |Cross Validation for Model Selection"
   ]
  },
  {
   "cell_type": "code",
   "execution_count": 2,
   "metadata": {},
   "outputs": [],
   "source": [
    "# # import packages\n",
    "# from sklearn.metrics import make_scorer\n",
    "# from sklearn.model_selection import cross_val_score\n",
    "# scorer = make_scorer(mean_squared_error, greater_is_better = False)\n",
    "\n",
    "# # Code starts here\n",
    "\n",
    "# # instantiate L1 and L2\n",
    "\n",
    "# # cross validation with L1\n",
    "# L1=Lasso()\n",
    "# rmse_L1=-np.mean(cross_val_score(L1,X_train,y_train,scoring=scorer,cv=10))\n",
    "\n",
    "\n",
    "# # cross validation with L2\n",
    "# L2=Ridge()\n",
    "# rmse_L2=-np.mean(cross_val_score(L2,X_train,y_train,scoring=scorer,cv=10))\n",
    "\n",
    "# # select best model\n",
    "\n",
    "# Model = L1 if rmse_L1<rmse_L2 else L2\n",
    "# # calculate RMSE on test data\n",
    "# Model.fit(X_train,y_train)\n",
    "# Pred=Model.predict(X_test)\n",
    "# Error=np.sqrt(mean_squared_error(y_test,Pred))\n",
    "\n",
    "# # Code ends here"
   ]
  },
  {
   "cell_type": "markdown",
   "metadata": {},
   "source": [
    "# Select the Best Model by Cross-Validation Using Grid Search"
   ]
  },
  {
   "cell_type": "code",
   "execution_count": 3,
   "metadata": {},
   "outputs": [],
   "source": [
    "# # import packages\n",
    "# from sklearn.model_selection import GridSearchCV, RandomizedSearchCV\n",
    "# import warnings\n",
    "# warnings.filterwarnings('ignore')\n",
    "\n",
    "# # regularization parameters for grid search\n",
    "# ridge_lambdas = [0.01, 0.03, 0.06, 0.1, 0.3, 0.6, 1, 3, 6, 10, 30, 60]\n",
    "# lasso_lambdas = [0.0001, 0.0003, 0.0006, 0.001, 0.003, 0.006, 0.01, 0.03, 0.06, 0.1, 0.3, 0.6, 1]\n",
    "\n",
    "# # Code starts here\n",
    "\n",
    "# # instantiate lasso and ridge models\n",
    "# lasso_model=Lasso()\n",
    "# ridge_model=Ridge()\n",
    "# # grid search on lasso and ridge\n",
    "# ridge_grid=GridSearchCV(ridge_model,param_grid=dict(alpha=ridge_lambdas))\n",
    "# ridge_grid.fit(X_train,y_train)\n",
    "\n",
    "# lasso_grid=GridSearchCV(lasso_model,param_grid=dict(alpha=lasso_lambdas))\n",
    "# lasso_grid.fit(X_train,y_train)\n",
    "\n",
    "# # make predictions \n",
    "# lasso_pred=lasso_grid.predict(X_test)\n",
    "# ridge_pred=ridge_grid.predict(X_test)\n",
    "\n",
    "# lasso_rmse=np.sqrt(mean_squared_error(y_test,lasso_pred))\n",
    "# ridge_rmse=np.sqrt(mean_squared_error(y_test,ridge_pred))\n",
    "\n",
    "# # print out which is better\n",
    "\n",
    "# best_model='LASSO' if lasso_rmse<ridge_rmse else 'RIDGE'\n",
    "\n",
    "# print(best_model)\n",
    "# # Code ends here"
   ]
  },
  {
   "cell_type": "code",
   "execution_count": null,
   "metadata": {},
   "outputs": [],
   "source": []
  }
 ],
 "metadata": {
  "kernelspec": {
   "display_name": "Python 3 (ipykernel)",
   "language": "python",
   "name": "python3"
  },
  "language_info": {
   "codemirror_mode": {
    "name": "ipython",
    "version": 3
   },
   "file_extension": ".py",
   "mimetype": "text/x-python",
   "name": "python",
   "nbconvert_exporter": "python",
   "pygments_lexer": "ipython3",
   "version": "3.9.6"
  }
 },
 "nbformat": 4,
 "nbformat_minor": 4
}
